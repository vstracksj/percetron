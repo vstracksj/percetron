{
 "cells": [
  {
   "cell_type": "code",
   "execution_count": 15,
   "metadata": {},
   "outputs": [
    {
     "name": "stdout",
     "output_type": "stream",
     "text": [
      "第1次迭代：\n",
      "[1 1 1 1]\n",
      "[1 1 1 1]\n",
      "[0 0 1 0]\n",
      "[ 0 -1  1 -1]\n",
      "第2次迭代：\n",
      "[ 1 -1  2  0]\n",
      "[ 1 -1  2  0]\n",
      "[ 0 -2  2 -1]\n",
      "[ 0 -2  2 -1]\n",
      "第3次迭代：\n",
      "[ 0 -2  2 -1]\n",
      "[ 0 -1  3  0]\n",
      "[ 0 -1  3  0]\n",
      "[ 0 -1  3  0]\n",
      "第4次迭代：\n",
      "[ 0 -1  3  0]\n",
      "[ 0 -1  3  0]\n",
      "[ 0 -1  3  0]\n",
      "[ 0 -1  3  0]\n",
      "经过3次迭代后，样本有收敛解\n",
      "此时权值为[ 0 -1  3  0]\n"
     ]
    }
   ],
   "source": [
    "#coding:utf-8\n",
    "import numpy as np\n",
    "import matplotlib.pyplot as plt\n",
    "from mpl_toolkits.mplot3d import Axes3D\n",
    "import operator\n",
    "def sign(vec):\n",
    "    if vec >= 0:\n",
    "        return 1\n",
    "    else:\n",
    "        return -1\n",
    "p_x=np.array([[1,0,1,1],[0,1,1,1],[1,1,0,1],[0,1,0,1]])#四个样本的增值模式 \n",
    "p_y=np.array([1,1,-1,-1])#对应类别1表示w1类，-1表示为w2类\n",
    "plt.figure()\n",
    "ax1=plt.subplot(211,projection='3d')\n",
    "ax1.set_title('sample scatter diagram')\n",
    "ax2=plt.subplot(2,1,2)\n",
    "ax2.set_title('percetron')\n",
    "ax2.set_xlabel('iteration')  #为子图设置横轴标题\n",
    "ax2.set_ylabel('weight_w')    #为子图设置纵轴标题\n",
    "for i in range(len(p_x)):\n",
    "    if p_y[i]==1:\n",
    "        ax1.scatter(p_x[0,i],p_x[1,i],p_x[2,i], s=50)#显示w1类数据\n",
    "    else :\n",
    "        ax1.scatter(p_x[0,i],p_x[1,i],p_x[2,i], marker='x',s=50)#显示w2类数据\n",
    "w=np.array([1,1,1,1])\n",
    "b=0\n",
    "delta=1\n",
    "w0=0;\n",
    "W=[]#用于存储每次更新的w\n",
    "for i in range(1,5):\n",
    "    print(\"第%d次迭代：\"%i)\n",
    "    for j in range(len(p_x)):\n",
    "        if p_y[j]*np.dot(w,p_x[j])<=0:#判断是否分错类\n",
    "            w=w+delta*p_x[j]*p_y[j]#更新权值\n",
    "            w0=i#存储迭代次数\n",
    "        print(w)\n",
    "    W.append(w.tolist())#将每次更新的w存储到W中\n",
    "print(\"经过%d次迭代后，样本有收敛解\"%w0)\n",
    "print(\"此时权值为%s\"%w)\n",
    "W=np.array(W)\n",
    "plt.sca(ax2)\n",
    "W1=(W[:,0])\n",
    "W2=(W[:,1])\n",
    "W3=(W[:,2])\n",
    "W4=(W[:,3])\n",
    "t=[1,2,3,4]\n",
    "plt.plot(t,W1)\n",
    "plt.plot(t,W2)\n",
    "plt.plot(t,W3)\n",
    "plt.plot(t,W4)\n",
    "plt.show()\n",
    "\n",
    "\n",
    "\n",
    "    \n",
    "\n"
   ]
  },
  {
   "cell_type": "code",
   "execution_count": null,
   "metadata": {},
   "outputs": [],
   "source": []
  },
  {
   "cell_type": "code",
   "execution_count": null,
   "metadata": {},
   "outputs": [],
   "source": []
  },
  {
   "cell_type": "code",
   "execution_count": null,
   "metadata": {},
   "outputs": [],
   "source": []
  },
  {
   "cell_type": "code",
   "execution_count": null,
   "metadata": {},
   "outputs": [],
   "source": []
  },
  {
   "cell_type": "code",
   "execution_count": null,
   "metadata": {},
   "outputs": [],
   "source": []
  },
  {
   "cell_type": "code",
   "execution_count": null,
   "metadata": {},
   "outputs": [],
   "source": []
  },
  {
   "cell_type": "code",
   "execution_count": null,
   "metadata": {},
   "outputs": [],
   "source": []
  }
 ],
 "metadata": {
  "kernelspec": {
   "display_name": "Python 3",
   "language": "python",
   "name": "python3"
  },
  "language_info": {
   "codemirror_mode": {
    "name": "ipython",
    "version": 3
   },
   "file_extension": ".py",
   "mimetype": "text/x-python",
   "name": "python",
   "nbconvert_exporter": "python",
   "pygments_lexer": "ipython3",
   "version": "3.7.3"
  }
 },
 "nbformat": 4,
 "nbformat_minor": 2
}
